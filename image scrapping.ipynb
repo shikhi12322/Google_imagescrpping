{
 "cells": [
  {
   "cell_type": "code",
   "execution_count": 3,
   "id": "efed9ce6-180d-4ccb-8f90-8fc4852fd23e",
   "metadata": {},
   "outputs": [],
   "source": [
    "import requests\n",
    "from bs4 import BeautifulSoup\n",
    "from urllib.request import urlopen as uReq\n",
    "import logging\n",
    "import os\n"
   ]
  },
  {
   "cell_type": "code",
   "execution_count": 5,
   "id": "b1208378-3da4-49c6-aa50-26cb056bb45f",
   "metadata": {},
   "outputs": [],
   "source": [
    "\n",
    "save_dir =\"images/\"\n",
    "if not os.path.exists(save_dir):\n",
    "    os.makedirs(save_dir)\n",
    "    "
   ]
  },
  {
   "cell_type": "code",
   "execution_count": 7,
   "id": "1f476e4a-dd32-4814-8d78-c5b26645ea4e",
   "metadata": {},
   "outputs": [],
   "source": [
    "headers = {\"User-Agent\":\"Chrome/58.0.3029.110 Safari/537.56\"}"
   ]
  },
  {
   "cell_type": "code",
   "execution_count": 31,
   "id": "f3185035-d18e-4e7f-8275-cc9161fed605",
   "metadata": {},
   "outputs": [],
   "source": [
    "query=\"Sachin Tendulkar\"\n",
    "response = requests.get(f\"https://www.google.com/search?sca_esv=937eecc00695d44d&sca_upv=1&sxsrf=ADLYWIJUV5g2V0Mbv5AaX5WKG9SYprdazA:1725945293817&q={query}+kalam&udm=2&fbs=AEQNm0DPvcmG_nCbmwtBO9j6YBzM68ZanC7g01Skprhw5JoufbCK1nGzScVrgK3HSlrjNu6plNP03ZWuAbxABvYcOgcrcxfyLKP90Tl7ddJSOKqiK6tH7okCSOtAvUPF-BJHLiRHhZEd8-NeQ72ZVvYYQC_UYoxUlN7HwIzY4nrxQa9S_SlLHoXS4ZmjH4QzOBH5WsqPHhJj3iTMnkI8X_xkf5qPuCPTVQ&sa=X&ved=2ahUKEwj87o6hz7eIAxVJXWwGHeObJ78QtKgLegQIERAB&biw=1280&bih=585&dpr=1.5\")\n"
   ]
  },
  {
   "cell_type": "code",
   "execution_count": 29,
   "id": "d2a76c52-87be-4a88-b01a-139b10743d09",
   "metadata": {},
   "outputs": [
    {
     "data": {
      "text/plain": [
       "<Response [200]>"
      ]
     },
     "execution_count": 29,
     "metadata": {},
     "output_type": "execute_result"
    }
   ],
   "source": [
    "response"
   ]
  },
  {
   "cell_type": "code",
   "execution_count": 13,
   "id": "d75a3040-3cb5-4fce-867f-1605533b2bf4",
   "metadata": {},
   "outputs": [],
   "source": [
    "Soup = BeautifulSoup(response.content,\"html.parser\")"
   ]
  },
  {
   "cell_type": "code",
   "execution_count": 15,
   "id": "27ff64de-ba5e-4fce-8ac9-836b4f2de6c4",
   "metadata": {},
   "outputs": [
    {
     "data": {
      "text/plain": [
       "<!DOCTYPE html PUBLIC \"-//WAPFORUM//DTD XHTML Mobile 1.0//EN\" \"http://www.wapforum.org/DTD/xhtml-mobile10.dtd\">\n",
       "<html lang=\"en-IN\" xmlns=\"http://www.w3.org/1999/xhtml\"><head><meta content=\"application/xhtml+xml; charset=utf-8\" http-equiv=\"Content-Type\"/><meta content=\"no-cache\" name=\"Cache-Control\"/><title>M.S Dhoni kalam - Google Search</title><style>a{text-decoration:none;color:inherit}a:hover{text-decoration:underline}a img{border:0}body{font-family:arial,sans-serif;padding:8px;margin:0 auto;max-width:700px;min-width:240px;}.FbhRzb{border-left:thin solid #dadce0;border-right:thin solid #dadce0;border-top:thin solid #dadce0;height:40px;overflow:hidden}.n692Zd{margin-bottom:10px}.cvifge{height:40px;border-spacing:0}.QvGUP{height:40px;padding:0 8px 0 8px;vertical-align:top}.O4cRJf{height:40px;width:100%;padding:0;padding-right:14px}.O1ePr{height:40px;padding:0;vertical-align:top}.kgJEQe{height:36px;width:98px;vertical-align:top;margin-top:4px}.lXLRf{vertical-align:top}.MhzMZd{border:0;vertical-align:middle;font-size:14px;height:40px;padding:0;width:100%;padding-left:14px}.xB0fq{height:40px;border:none;font-size:14px;background-color:#1a73e8;color:#fff;padding:0 14px;margin:0;vertical-align:top;cursor:pointer}.xB0fq:focus{border:1px solid #1a73e8}.M7pB2{border:thin solid #dadce0;margin:0 0 3px 0;font-size:13px;font-weight:500;height:40px}.euZec{width:100%;height:40px;text-align:center;border-spacing:0}table.euZec td{padding:0;width:25%}.QIqI7{display:inline-block;padding-top:4px;font-weight:bold;color:#4285f4}.EY24We{border-bottom:2px solid #4285f4}.CsQyDc{display:inline-block;color:#70757a}.TuS8Ad{font-size:14px}.HddGcc{padding:8px;color:#70757a}.dzp8ae{font-weight:bold;color:#3c4043}.rEM8G{color:#70757a}.bookcf{table-layout:fixed;width:100%;border-spacing:0}.InWNIe{text-align:center}.uZgmoc{border:thin solid #dadce0;color:#70757a;font-size:14px;text-align:center;table-layout:fixed;width:100%}.frGj1b{display:block;padding:16px 0 12px 0;width:100%}.BnJWBc{text-align:center;padding:6px 0 13px 0;height:35px}.e3goi{vertical-align:top;padding:0;height:180px}.GpQGbf{margin:auto;border-collapse:collapse;border-spacing:0;width:100%}</style></head><body><style>.X6ZCif{color:#202124;font-size:11px;line-height:16px;display:inline-block;padding-top:2px;overflow:hidden;padding-bottom:4px;width:100%}.TwVfHd{border-radius:16px;border:thin solid #dadce0;display:inline-block;padding:8px 8px;margin-right:8px;margin-bottom:4px}.yekiAe{background-color:#dadce0}.jjVJ4e{width:100%}.ezO2md{border:thin solid #dadce0;padding:16px 14px 12px 14px;margin-bottom:10px;font-family:arial,sans-serif}.lIMUZd{font-family:arial,sans-serif}.RntSmf{border-spacing:0}.lgD2Tc{width:100%}.SpelHe{text-align:center}.SpelHe{position:relative}.kCmkOe{position:relative}.kCmkOe{width:162px;height:140px;line-height:140px;overflow:'hidden';text-align:center}.DS1iW{text-align:center;margin:auto;vertical-align:middle;max-width:162px;max-height:140px}.AlD19d{padding-top:2px;padding-bottom:8px;}.fYyStc{word-break:break-word}.ynsChf{display:block;white-space:nowrap;overflow:hidden;text-overflow:ellipsis}.Fj3V3b{color:#1967d2;font-size:14px;line-height:20px}.FrIlee{color:#202124;font-size:11px;line-height:16px}.F9iS2e{color:#70757a;font-size:11px;line-height:16px}.WMQ2Le{color:#70757a;font-size:12px;line-height:16px}.x3G5ab{color:#202124;font-size:12px;line-height:16px}.fuLhoc{color:#1967d2;font-size:16px;line-height:20px}.epoveb{font-size:24px;line-height:28px;font-weight:400;color:#202124}.dXDvrc{color:#0d652d;font-size:14px;line-height:20px;word-wrap:break-word}.dloBPe{font-weight:bold}.YVIcad{color:#70757a}.JkVVdd{color:#ea4335}.oXZRFd{color:#ea4335}.MQHtg{color:#fbbc04}.pyMRrb{color:#1e8e3e}.EtTZid{color:#1e8e3e}.M3vVJe{color:#1967d2}.qXLe6d{display:block}.NHQNef{font-style:italic}.Cb8Z7c{white-space:pre}a.ZWRArf{text-decoration:none}a .CVA68e:hover{text-decoration:underline}</style><div class=\"n692Zd\"><div class=\"BnJWBc\"><a class=\"lXLRf\" href=\"/?sa=X&amp;sca_esv=937eecc00695d44d&amp;biw=1280&amp;bih=585&amp;output=images&amp;ie=UTF-8&amp;tbm=isch&amp;ved=0ahUKEwjG-5yR2ZSJAxWCVWwGHWc6DrcQPAgC\"><img alt=\"Google\" class=\"kgJEQe\" src=\"/images/branding/searchlogo/1x/googlelogo_desk_heirloom_color_150x55dp.gif\"/></a></div><div class=\"FbhRzb\"><form action=\"/search\"><input name=\"sca_esv\" type=\"hidden\" value=\"937eecc00695d44d\"/><input name=\"biw\" type=\"hidden\" value=\"1280\"/><input name=\"bih\" type=\"hidden\" value=\"585\"/><input name=\"ie\" type=\"hidden\" value=\"ISO-8859-1\"/><input name=\"tbm\" type=\"hidden\" value=\"isch\"/><input name=\"oq\" type=\"hidden\"/><input name=\"aqs\" type=\"hidden\"/><table class=\"cvifge\"><tr><td class=\"O4cRJf\"><input class=\"MhzMZd\" name=\"q\" type=\"text\" value=\"M.S Dhoni kalam\"/></td><td class=\"O1ePr\"><input class=\"xB0fq\" type=\"submit\" value=\"Search\"/></td></tr></table></form></div><div class=\"M7pB2\"><table class=\"euZec\"><tbody><tr><td><a class=\"CsQyDc\" href=\"/search?q=M.S+Dhoni+kalam&amp;sca_esv=937eecc00695d44d&amp;biw=1280&amp;bih=585&amp;ie=UTF-8&amp;source=lnms&amp;fbs=AEQNm0DPvcmG_nCbmwtBO9j6YBzM68ZanC7g01Skprhw5JoufbCK1nGzScVrgK3HSlrjNu6plNP03ZWuAbxABvYcOgcrcxfyLKP90Tl7ddJSOKqiK6tH7okCSOtAvUPF-BJHLiRHhZEd8-NeQ72ZVvYYQC_UYoxUlN7HwIzY4nrxQa9S_SlLHoXS4ZmjH4QzOBH5WsqPHhJj3iTMnkI8X_xkf5qPuCPTVQ&amp;sa=X&amp;ved=0ahUKEwjG-5yR2ZSJAxWCVWwGHWc6DrcQ_AUIBCgA\">ALL</a></td><td class=\"EY24We\"><span class=\"QIqI7\">IMAGES</span></td><td><a class=\"CsQyDc\" href=\"/search?q=M.S+Dhoni+kalam&amp;sca_esv=937eecc00695d44d&amp;biw=1280&amp;bih=585&amp;ie=UTF-8&amp;tbm=nws&amp;source=lnms&amp;fbs=AEQNm0DPvcmG_nCbmwtBO9j6YBzM68ZanC7g01Skprhw5JoufbCK1nGzScVrgK3HSlrjNu6plNP03ZWuAbxABvYcOgcrcxfyLKP90Tl7ddJSOKqiK6tH7okCSOtAvUPF-BJHLiRHhZEd8-NeQ72ZVvYYQC_UYoxUlN7HwIzY4nrxQa9S_SlLHoXS4ZmjH4QzOBH5WsqPHhJj3iTMnkI8X_xkf5qPuCPTVQ&amp;sa=X&amp;ved=0ahUKEwjG-5yR2ZSJAxWCVWwGHWc6DrcQ_AUIBigC\">NEWS</a></td><td><a class=\"CsQyDc\" href=\"/search?q=M.S+Dhoni+kalam&amp;sca_esv=937eecc00695d44d&amp;biw=1280&amp;bih=585&amp;ie=UTF-8&amp;tbm=vid&amp;source=lnms&amp;fbs=AEQNm0DPvcmG_nCbmwtBO9j6YBzM68ZanC7g01Skprhw5JoufbCK1nGzScVrgK3HSlrjNu6plNP03ZWuAbxABvYcOgcrcxfyLKP90Tl7ddJSOKqiK6tH7okCSOtAvUPF-BJHLiRHhZEd8-NeQ72ZVvYYQC_UYoxUlN7HwIzY4nrxQa9S_SlLHoXS4ZmjH4QzOBH5WsqPHhJj3iTMnkI8X_xkf5qPuCPTVQ&amp;sa=X&amp;ved=0ahUKEwjG-5yR2ZSJAxWCVWwGHWc6DrcQ_AUIBygD\">VIDEOS</a></td></tr></tbody></table></div></div><div><table class=\"GpQGbf\"><tr><td align=\"center\" class=\"e3goi\"><div class=\"jjVJ4e\"> <div> <div class=\"lIMUZd\"><div><table class=\"RntSmf\"><tr><td><a href=\"/url?q=https://www.facebook.com/thebackbenchersofficial/photos/a.715704285113211/1223702814313353/%3Ftype%3D3&amp;sa=U&amp;ved=2ahUKEwjG-5yR2ZSJAxWCVWwGHWc6DrcQqoUBegQIBBAB&amp;usg=AOvVaw3wll7G3g15E30nW77Zs1Lb\"><div class=\"kCmkOe\"><img alt=\"\" class=\"DS1iW\" src=\"https://encrypted-tbn0.gstatic.com/images?q=tbn:ANd9GcTy8m8LyzU3ESFr3poDiqAbGCMCF5W3r9oRM_bsdq3Nbtmfd3jFJEZvX1um2g&amp;s\"/></div></a></td></tr><tr><td><a href=\"/url?q=https://www.facebook.com/thebackbenchersofficial/photos/a.715704285113211/1223702814313353/%3Ftype%3D3&amp;sa=U&amp;ved=2ahUKEwjG-5yR2ZSJAxWCVWwGHWc6DrcQr4kDegQIBBAC&amp;usg=AOvVaw2GMV4IDDxPYiBoAgA1JRfA\"><div class=\"AlD19d\"> <span class=\"qXLe6d x3G5ab\"> <span class=\"fYyStc\">The BACK Benchers - Dr....</span> </span> <span class=\"qXLe6d F9iS2e\"> <span class=\"fYyStc\">www.facebook.com</span> </span> </div></a></td></tr></table></div></div> </div> </div></td><td align=\"center\" class=\"e3goi\"><div class=\"jjVJ4e\"> <div> <div class=\"lIMUZd\"><div><table class=\"RntSmf\"><tr><td><a href=\"/url?q=https://www.pinterest.com/pin/850265604654074538/&amp;sa=U&amp;ved=2ahUKEwjG-5yR2ZSJAxWCVWwGHWc6DrcQqoUBegQIEhAB&amp;usg=AOvVaw3w-iD42AtErRLyWYZUK7ap\"><div class=\"kCmkOe\"><img alt=\"\" class=\"DS1iW\" src=\"https://encrypted-tbn0.gstatic.com/images?q=tbn:ANd9GcRfheApSvpRrdmJHhFoO2_-o_4NnpkLRHtmWi0mCz38ZRLojhNQ7JQnw6VZjQ&amp;s\"/></div></a></td></tr><tr><td><a href=\"/url?q=https://www.pinterest.com/pin/850265604654074538/&amp;sa=U&amp;ved=2ahUKEwjG-5yR2ZSJAxWCVWwGHWc6DrcQr4kDegQIEhAC&amp;usg=AOvVaw3vmTxadLLVrncMWGJ5B3fV\"><div class=\"AlD19d\"> <span class=\"qXLe6d x3G5ab\"> <span class=\"fYyStc\">APJ ABDUL KALAM ON MS DHONI...</span> </span> <span class=\"qXLe6d F9iS2e\"> <span class=\"fYyStc\">www.pinterest.com</span> </span> </div></a></td></tr></table></div></div> </div> </div></td><td align=\"center\" class=\"e3goi\"><div class=\"jjVJ4e\"> <div> <div class=\"lIMUZd\"><div><table class=\"RntSmf\"><tr><td><a href=\"/url?q=https://www.facebook.com/photo.php%3Ffbid%3D518177418343077%26id%3D221055688055253%26set%3Da.222917607869061&amp;sa=U&amp;ved=2ahUKEwjG-5yR2ZSJAxWCVWwGHWc6DrcQqoUBegQIExAB&amp;usg=AOvVaw30LbB95uk_XNcj14gUhbot\"><div class=\"kCmkOe\"><img alt=\"\" class=\"DS1iW\" src=\"https://encrypted-tbn0.gstatic.com/images?q=tbn:ANd9GcQu5TE3xWaOrmHFec1Mm1iEvzyJiL4uInPSFLIUjHR86Q9ZRbb3N0eC_dK5Qg&amp;s\"/></div></a></td></tr><tr><td><a href=\"/url?q=https://www.facebook.com/photo.php%3Ffbid%3D518177418343077%26id%3D221055688055253%26set%3Da.222917607869061&amp;sa=U&amp;ved=2ahUKEwjG-5yR2ZSJAxWCVWwGHWc6DrcQr4kDegQIExAC&amp;usg=AOvVaw25hj1KrWNZl8XknydwosiS\"><div class=\"AlD19d\"> <span class=\"qXLe6d x3G5ab\"> <span class=\"fYyStc\">Cricket Addictor - Dr APJ...</span> </span> <span class=\"qXLe6d F9iS2e\"> <span class=\"fYyStc\">www.facebook.com</span> </span> </div></a></td></tr></table></div></div> </div> </div></td><td align=\"center\" class=\"e3goi\"><div class=\"jjVJ4e\"> <div> <div class=\"lIMUZd\"><div><table class=\"RntSmf\"><tr><td><a href=\"/url?q=https://www.linkedin.com/posts/srijanpalsingh_msdhoni-msd-happybirthday-activity-7082961873226076160-6ugH&amp;sa=U&amp;ved=2ahUKEwjG-5yR2ZSJAxWCVWwGHWc6DrcQqoUBegQIERAB&amp;usg=AOvVaw3PnIWPohO2f17y4u-wezXl\"><div class=\"kCmkOe\"><img alt=\"\" class=\"DS1iW\" src=\"https://encrypted-tbn0.gstatic.com/images?q=tbn:ANd9GcSTFFkVfJdK_1-ETofBDnLy1jgijI-nNJeytja8DcmKzI9izYPsODgWQk5dcZ4&amp;s\"/></div></a></td></tr><tr><td><a href=\"/url?q=https://www.linkedin.com/posts/srijanpalsingh_msdhoni-msd-happybirthday-activity-7082961873226076160-6ugH&amp;sa=U&amp;ved=2ahUKEwjG-5yR2ZSJAxWCVWwGHWc6DrcQr4kDegQIERAC&amp;usg=AOvVaw3eDj56FmBrwkutJqOIQwGl\"><div class=\"AlD19d\"> <span class=\"qXLe6d x3G5ab\"> <span class=\"fYyStc\">Srijan Singh on LinkedIn:...</span> </span> <span class=\"qXLe6d F9iS2e\"> <span class=\"fYyStc\">www.linkedin.com</span> </span> </div></a></td></tr></table></div></div> </div> </div></td></tr><tr><td align=\"center\" class=\"e3goi\"><div class=\"jjVJ4e\"> <div> <div class=\"lIMUZd\"><div><table class=\"RntSmf\"><tr><td><a href=\"/url?q=https://m.youtube.com/watch%3Fv%3DZXTFov4eTdI&amp;sa=U&amp;ved=2ahUKEwjG-5yR2ZSJAxWCVWwGHWc6DrcQqoUBegQIDhAB&amp;usg=AOvVaw2jXPjRAFQpSIrzJDCbbD23\"><div class=\"kCmkOe\"><img alt=\"\" class=\"DS1iW\" src=\"https://encrypted-tbn0.gstatic.com/images?q=tbn:ANd9GcR27IiCMvGnkCScGadRbCm6MY5DVQwf2hTaD5NEV6NbhWm_cbM2aQxg5Y4DRg&amp;s\"/></div></a></td></tr><tr><td><a href=\"/url?q=https://m.youtube.com/watch%3Fv%3DZXTFov4eTdI&amp;sa=U&amp;ved=2ahUKEwjG-5yR2ZSJAxWCVWwGHWc6DrcQr4kDegQIDhAC&amp;usg=AOvVaw2zZzt3hL3TZ37I0l5dNyL9\"><div class=\"AlD19d\"> <span class=\"qXLe6d x3G5ab\"> <span class=\"fYyStc\">MS Dhoni salutes President...</span> </span> <span class=\"qXLe6d F9iS2e\"> <span class=\"fYyStc\">m.youtube.com</span> </span> </div></a></td></tr></table></div></div> </div> </div></td><td align=\"center\" class=\"e3goi\"><div class=\"jjVJ4e\"> <div> <div class=\"lIMUZd\"><div><table class=\"RntSmf\"><tr><td><a href=\"/url?q=https://twitter.com/DHONIism/status/710482741427462144&amp;sa=U&amp;ved=2ahUKEwjG-5yR2ZSJAxWCVWwGHWc6DrcQqoUBegQIDxAB&amp;usg=AOvVaw23QMaq7yPRdVWyHDWMvZBu\"><div class=\"kCmkOe\"><img alt=\"\" class=\"DS1iW\" src=\"https://encrypted-tbn0.gstatic.com/images?q=tbn:ANd9GcRurW0RX6dXUP-2n56dNq7ZGXQnP9allzYTXC7X92ZX170lEZ-iE5sHLnIXBQ&amp;s\"/></div></a></td></tr><tr><td><a href=\"/url?q=https://twitter.com/DHONIism/status/710482741427462144&amp;sa=U&amp;ved=2ahUKEwjG-5yR2ZSJAxWCVWwGHWc6DrcQr4kDegQIDxAC&amp;usg=AOvVaw3xQJhhmoBJbFm6mJw4Hck3\"><div class=\"AlD19d\"> <span class=\"qXLe6d x3G5ab\"> <span class=\"fYyStc\">DHONIsm™ ❤ on X: \"\"APJ...</span> </span> <span class=\"qXLe6d F9iS2e\"> <span class=\"fYyStc\">twitter.com</span> </span> </div></a></td></tr></table></div></div> </div> </div></td><td align=\"center\" class=\"e3goi\"><div class=\"jjVJ4e\"> <div> <div class=\"lIMUZd\"><div><table class=\"RntSmf\"><tr><td><a href=\"/url?q=https://www.youtube.com/watch%3Fv%3DomGF5qF_NDc&amp;sa=U&amp;ved=2ahUKEwjG-5yR2ZSJAxWCVWwGHWc6DrcQqoUBegQIDBAB&amp;usg=AOvVaw1EbOy2dau-uJF6WjUJS2yZ\"><div class=\"kCmkOe\"><img alt=\"\" class=\"DS1iW\" src=\"https://encrypted-tbn0.gstatic.com/images?q=tbn:ANd9GcR1rRFx7RCW8on-nQ0eVM0dkTcV6ivnSyqWBmIBYhhaVM9W8dewfOrEFfTb8v0&amp;s\"/></div></a></td></tr><tr><td><a href=\"/url?q=https://www.youtube.com/watch%3Fv%3DomGF5qF_NDc&amp;sa=U&amp;ved=2ahUKEwjG-5yR2ZSJAxWCVWwGHWc6DrcQr4kDegQIDBAC&amp;usg=AOvVaw3imZp7FX-Mha3KoUknoPYX\"><div class=\"AlD19d\"> <span class=\"qXLe6d x3G5ab\"> <span class=\"fYyStc\">MS Dhoni और APJ Abdul Kalam...</span> </span> <span class=\"qXLe6d F9iS2e\"> <span class=\"fYyStc\">www.youtube.com</span> </span> </div></a></td></tr></table></div></div> </div> </div></td><td align=\"center\" class=\"e3goi\"><div class=\"jjVJ4e\"> <div> <div class=\"lIMUZd\"><div><table class=\"RntSmf\"><tr><td><a href=\"/url?q=https://www.instagram.com/definitelyn0t7/p/DBI0T5mvakB/&amp;sa=U&amp;ved=2ahUKEwjG-5yR2ZSJAxWCVWwGHWc6DrcQqoUBegQIEBAB&amp;usg=AOvVaw3RCfdfvZoBu2WUeYvZEb6O\"><div class=\"kCmkOe\"><img alt=\"\" class=\"DS1iW\" src=\"https://encrypted-tbn0.gstatic.com/images?q=tbn:ANd9GcS4huaMXFElsEP5cE8VfEgIGeLqIup05AuIyf5Gu6PsO8y_HQiTZqFdWNNDYw&amp;s\"/></div></a></td></tr><tr><td><a href=\"/url?q=https://www.instagram.com/definitelyn0t7/p/DBI0T5mvakB/&amp;sa=U&amp;ved=2ahUKEwjG-5yR2ZSJAxWCVWwGHWc6DrcQr4kDegQIEBAC&amp;usg=AOvVaw0CrDKb8XXtt_zD8J7tHXAU\"><div class=\"AlD19d\"> <span class=\"qXLe6d x3G5ab\"> <span class=\"fYyStc\">𝘿𝙝𝙤𝙣𝙞 𝘿𝙚𝙫𝙤𝙩𝙚𝙚💛...</span> </span> <span class=\"qXLe6d F9iS2e\"> <span class=\"fYyStc\">www.instagram.com</span> </span> </div></a></td></tr></table></div></div> </div> </div></td></tr><tr><td align=\"center\" class=\"e3goi\"><div class=\"jjVJ4e\"> <div> <div class=\"lIMUZd\"><div><table class=\"RntSmf\"><tr><td><a href=\"/url?q=https://www.youtube.com/watch%3Fv%3DVl-ks1xK60U&amp;sa=U&amp;ved=2ahUKEwjG-5yR2ZSJAxWCVWwGHWc6DrcQqoUBegQIDRAB&amp;usg=AOvVaw3xSu4KiJM9z3WsOP-HeE7d\"><div class=\"kCmkOe\"><img alt=\"\" class=\"DS1iW\" src=\"https://encrypted-tbn0.gstatic.com/images?q=tbn:ANd9GcSb1tfoKsTk04fSd1uCMFSKkt4JAOtCB8r-KPttSwEHVKODXUinA7iB7RVu0A4&amp;s\"/></div></a></td></tr><tr><td><a href=\"/url?q=https://www.youtube.com/watch%3Fv%3DVl-ks1xK60U&amp;sa=U&amp;ved=2ahUKEwjG-5yR2ZSJAxWCVWwGHWc6DrcQr4kDegQIDRAC&amp;usg=AOvVaw23ya1QdRG1fnnkH7GBRo3t\"><div class=\"AlD19d\"> <span class=\"qXLe6d x3G5ab\"> <span class=\"fYyStc\">MS.DHONI A.P.J ABDUL KALAM...</span> </span> <span class=\"qXLe6d F9iS2e\"> <span class=\"fYyStc\">www.youtube.com</span> </span> </div></a></td></tr></table></div></div> </div> </div></td><td align=\"center\" class=\"e3goi\"><div class=\"jjVJ4e\"> <div> <div class=\"lIMUZd\"><div><table class=\"RntSmf\"><tr><td><a href=\"/url?q=https://www.india.com/sports/ms-dhoni-pays-tribute-to-dr-apj-abdul-kalam-see-picture-of-indian-cricket-captain-offer-last-respects-483865/&amp;sa=U&amp;ved=2ahUKEwjG-5yR2ZSJAxWCVWwGHWc6DrcQqoUBegQICRAB&amp;usg=AOvVaw2_1epD14YxCPe00sNV8KhB\"><div class=\"kCmkOe\"><img alt=\"\" class=\"DS1iW\" src=\"https://encrypted-tbn0.gstatic.com/images?q=tbn:ANd9GcTlIPCqkkxdH5Zu7QHXfRk_iV6jcYXmam2dkHsVRg14CeyIQcyxyunGWqRpnQ&amp;s\"/></div></a></td></tr><tr><td><a href=\"/url?q=https://www.india.com/sports/ms-dhoni-pays-tribute-to-dr-apj-abdul-kalam-see-picture-of-indian-cricket-captain-offer-last-respects-483865/&amp;sa=U&amp;ved=2ahUKEwjG-5yR2ZSJAxWCVWwGHWc6DrcQr4kDegQICRAC&amp;usg=AOvVaw2PYpThKyG_JQ7xjziRo5zW\"><div class=\"AlD19d\"> <span class=\"qXLe6d x3G5ab\"> <span class=\"fYyStc\">MS Dhoni pays tribute to Dr...</span> </span> <span class=\"qXLe6d F9iS2e\"> <span class=\"fYyStc\">www.india.com</span> </span> </div></a></td></tr></table></div></div> </div> </div></td><td align=\"center\" class=\"e3goi\"><div class=\"jjVJ4e\"> <div> <div class=\"lIMUZd\"><div><table class=\"RntSmf\"><tr><td><a href=\"/url?q=https://www.facebook.com/photo.php%3Ffbid%3D1106569092811213%26id%3D581587018642759%26set%3Da.591384707662990%26locale%3Dcx_PH&amp;sa=U&amp;ved=2ahUKEwjG-5yR2ZSJAxWCVWwGHWc6DrcQqoUBegQIChAB&amp;usg=AOvVaw1mQDaD9OQbKE_Mudu2AqJF\"><div class=\"kCmkOe\"><img alt=\"\" class=\"DS1iW\" src=\"https://encrypted-tbn0.gstatic.com/images?q=tbn:ANd9GcQsECS4OPX2dF9LpPm5EpA0W2QHccgIEl4t6YkhTvq7HDbzOtIIbo9UeAuTcw&amp;s\"/></div></a></td></tr><tr><td><a href=\"/url?q=https://www.facebook.com/photo.php%3Ffbid%3D1106569092811213%26id%3D581587018642759%26set%3Da.591384707662990%26locale%3Dcx_PH&amp;sa=U&amp;ved=2ahUKEwjG-5yR2ZSJAxWCVWwGHWc6DrcQr4kDegQIChAC&amp;usg=AOvVaw2kAPkeDxdPzSEYRMfmsZ6v\"><div class=\"AlD19d\"> <span class=\"qXLe6d x3G5ab\"> <span class=\"fYyStc\">CricketTimes.com - Dr....</span> </span> <span class=\"qXLe6d F9iS2e\"> <span class=\"fYyStc\">www.facebook.com</span> </span> </div></a></td></tr></table></div></div> </div> </div></td><td align=\"center\" class=\"e3goi\"><div class=\"jjVJ4e\"> <div> <div class=\"lIMUZd\"><div><table class=\"RntSmf\"><tr><td><a href=\"/url?q=https://twitter.com/TheDhoniEra/status/1419917832863719424&amp;sa=U&amp;ved=2ahUKEwjG-5yR2ZSJAxWCVWwGHWc6DrcQqoUBegQICxAB&amp;usg=AOvVaw0K-XVOZI7nQjwgvfas5dOG\"><div class=\"kCmkOe\"><img alt=\"\" class=\"DS1iW\" src=\"https://encrypted-tbn0.gstatic.com/images?q=tbn:ANd9GcRGzFNHKM7vH5_nk4rBcXcxHouumUadRYhkBgbpD7pfmSH993pAzf9g2DQ7oAM&amp;s\"/></div></a></td></tr><tr><td><a href=\"/url?q=https://twitter.com/TheDhoniEra/status/1419917832863719424&amp;sa=U&amp;ved=2ahUKEwjG-5yR2ZSJAxWCVWwGHWc6DrcQr4kDegQICxAC&amp;usg=AOvVaw16Fd4yDPnQXCWOP_Q1Xl2a\"><div class=\"AlD19d\"> <span class=\"qXLe6d x3G5ab\"> <span class=\"fYyStc\">DHONI Era™ 🤩 on X:...</span> </span> <span class=\"qXLe6d F9iS2e\"> <span class=\"fYyStc\">twitter.com</span> </span> </div></a></td></tr></table></div></div> </div> </div></td></tr><tr><td align=\"center\" class=\"e3goi\"><div class=\"jjVJ4e\"> <div> <div class=\"lIMUZd\"><div><table class=\"RntSmf\"><tr><td><a href=\"/url?q=https://www.instagram.com/revolutioninside/p/C6tIYQ-sVzE/&amp;sa=U&amp;ved=2ahUKEwjG-5yR2ZSJAxWCVWwGHWc6DrcQqoUBegQIAhAB&amp;usg=AOvVaw28ZO7dI8r6WKmLhkbLwzfh\"><div class=\"kCmkOe\"><img alt=\"\" class=\"DS1iW\" src=\"https://encrypted-tbn0.gstatic.com/images?q=tbn:ANd9GcR7y773sQl2kieMb3C5OA8vqjkCi1EQNqLVP3ptEjULP5ZJQYfYcLDJyizYOzQ&amp;s\"/></div></a></td></tr><tr><td><a href=\"/url?q=https://www.instagram.com/revolutioninside/p/C6tIYQ-sVzE/&amp;sa=U&amp;ved=2ahUKEwjG-5yR2ZSJAxWCVWwGHWc6DrcQr4kDegQIAhAC&amp;usg=AOvVaw3R2M3Y5elUzi5jmqG19cI-\"><div class=\"AlD19d\"> <span class=\"qXLe6d x3G5ab\"> <span class=\"fYyStc\">Srijan Pal Singh Kalam |...</span> </span> <span class=\"qXLe6d F9iS2e\"> <span class=\"fYyStc\">www.instagram.com</span> </span> </div></a></td></tr></table></div></div> </div> </div></td><td align=\"center\" class=\"e3goi\"><div class=\"jjVJ4e\"> <div> <div class=\"lIMUZd\"><div><table class=\"RntSmf\"><tr><td><a href=\"/url?q=https://www.amazon.in/Kagaz-Kala-Personalities-Motivation-Synthetic/dp/B0CR2X4SG3&amp;sa=U&amp;ved=2ahUKEwjG-5yR2ZSJAxWCVWwGHWc6DrcQqoUBegQIBhAB&amp;usg=AOvVaw3tp_wkCWlcwGd2Sd4CtTfN\"><div class=\"kCmkOe\"><img alt=\"\" class=\"DS1iW\" src=\"https://encrypted-tbn0.gstatic.com/images?q=tbn:ANd9GcRYyMhhZB799RU_KFZX_LeBhQxFz5h0KsphX3a7wh9Ok1OyBnCrJZHvLrjuV-Q&amp;s\"/></div></a></td></tr><tr><td><a href=\"/url?q=https://www.amazon.in/Kagaz-Kala-Personalities-Motivation-Synthetic/dp/B0CR2X4SG3&amp;sa=U&amp;ved=2ahUKEwjG-5yR2ZSJAxWCVWwGHWc6DrcQr4kDegQIBhAC&amp;usg=AOvVaw0AQKV25ksmtLaniPkZgDKV\"><div class=\"AlD19d\"> <span class=\"qXLe6d x3G5ab\"> <span class=\"fYyStc\">Kagaz Kala - Famous...</span> </span> <span class=\"qXLe6d F9iS2e\"> <span class=\"fYyStc\">www.amazon.in</span> </span> </div></a></td></tr></table></div></div> </div> </div></td><td align=\"center\" class=\"e3goi\"><div class=\"jjVJ4e\"> <div> <div class=\"lIMUZd\"><div><table class=\"RntSmf\"><tr><td><a href=\"/url?q=https://in.pinterest.com/pin/129k-likes-2-comments-ms-dhonis-fc-mahi7781_official_-on-instagram-apj-abdul-kalam-on-mahi7781-please-follow-mahi77--820640363345426903/&amp;sa=U&amp;ved=2ahUKEwjG-5yR2ZSJAxWCVWwGHWc6DrcQqoUBegQIABAB&amp;usg=AOvVaw1RwtWEcGj5cSw29zlaKA8S\"><div class=\"kCmkOe\"><img alt=\"\" class=\"DS1iW\" src=\"https://encrypted-tbn0.gstatic.com/images?q=tbn:ANd9GcQS4B2JApWTu3ykuqQeyF_1oOG-BtcEacEaJReUxx7LtM4P9AtKyXGuZ1lZxbc&amp;s\"/></div></a></td></tr><tr><td><a href=\"/url?q=https://in.pinterest.com/pin/129k-likes-2-comments-ms-dhonis-fc-mahi7781_official_-on-instagram-apj-abdul-kalam-on-mahi7781-please-follow-mahi77--820640363345426903/&amp;sa=U&amp;ved=2ahUKEwjG-5yR2ZSJAxWCVWwGHWc6DrcQr4kDegQIABAC&amp;usg=AOvVaw2Q16e-RwCZVnW-Rkv7OG7F\"><div class=\"AlD19d\"> <span class=\"qXLe6d x3G5ab\"> <span class=\"fYyStc\">Pin page</span> </span> <span class=\"qXLe6d F9iS2e\"> <span class=\"fYyStc\">in.pinterest.com</span> </span> </div></a></td></tr></table></div></div> </div> </div></td><td align=\"center\" class=\"e3goi\"><div class=\"jjVJ4e\"> <div> <div class=\"lIMUZd\"><div><table class=\"RntSmf\"><tr><td><a href=\"/url?q=https://www.facebook.com/photo.php%3Ffbid%3D2539838729414859%26id%3D740953509303399%26set%3Da.740981105967306%26locale%3Dda_DK&amp;sa=U&amp;ved=2ahUKEwjG-5yR2ZSJAxWCVWwGHWc6DrcQqoUBegQIBRAB&amp;usg=AOvVaw3BWAf0xlPOQO1k9Gb9N-CH\"><div class=\"kCmkOe\"><img alt=\"\" class=\"DS1iW\" src=\"https://encrypted-tbn0.gstatic.com/images?q=tbn:ANd9GcS9S1-wN9klXMZ494rRjbk690UHGSlXKkF5DLPfWfYir2wGHUFEaLwDioCA-Q&amp;s\"/></div></a></td></tr><tr><td><a href=\"/url?q=https://www.facebook.com/photo.php%3Ffbid%3D2539838729414859%26id%3D740953509303399%26set%3Da.740981105967306%26locale%3Dda_DK&amp;sa=U&amp;ved=2ahUKEwjG-5yR2ZSJAxWCVWwGHWc6DrcQr4kDegQIBRAC&amp;usg=AOvVaw1djgwyjdQtN9s_1l0zToG1\"><div class=\"AlD19d\"> <span class=\"qXLe6d x3G5ab\"> <span class=\"fYyStc\">MS Dhoni Fans Forever -...</span> </span> <span class=\"qXLe6d F9iS2e\"> <span class=\"fYyStc\">www.facebook.com</span> </span> </div></a></td></tr></table></div></div> </div> </div></td></tr><tr><td align=\"center\" class=\"e3goi\"><div class=\"jjVJ4e\"> <div> <div class=\"lIMUZd\"><div><table class=\"RntSmf\"><tr><td><a href=\"/url?q=https://twitter.com/SportsIndiaShow/status/1415652738055041024&amp;sa=U&amp;ved=2ahUKEwjG-5yR2ZSJAxWCVWwGHWc6DrcQqoUBegQIAxAB&amp;usg=AOvVaw1pq2DFCsoJvGBxrwRFnItU\"><div class=\"kCmkOe\"><img alt=\"\" class=\"DS1iW\" src=\"https://encrypted-tbn0.gstatic.com/images?q=tbn:ANd9GcQFIk8it-nhkxbGtxuVSv2d45dO__oer-cPuTe3Zfndhf3NcRNRroR-nYnXUQ&amp;s\"/></div></a></td></tr><tr><td><a href=\"/url?q=https://twitter.com/SportsIndiaShow/status/1415652738055041024&amp;sa=U&amp;ved=2ahUKEwjG-5yR2ZSJAxWCVWwGHWc6DrcQr4kDegQIAxAC&amp;usg=AOvVaw1VvtaAhLmHNd3OQVMiQlMW\"><div class=\"AlD19d\"> <span class=\"qXLe6d x3G5ab\"> <span class=\"fYyStc\">SportsIndiaShow on X: \"Mahi...</span> </span> <span class=\"qXLe6d F9iS2e\"> <span class=\"fYyStc\">twitter.com</span> </span> </div></a></td></tr></table></div></div> </div> </div></td><td align=\"center\" class=\"e3goi\"><div class=\"jjVJ4e\"> <div> <div class=\"lIMUZd\"><div><table class=\"RntSmf\"><tr><td><a href=\"/url?q=https://in.pinterest.com/raparnadharshin/cricket-quotes/&amp;sa=U&amp;ved=2ahUKEwjG-5yR2ZSJAxWCVWwGHWc6DrcQqoUBegQIARAB&amp;usg=AOvVaw3QBn6kON_nTg-L6sPSC-Ef\"><div class=\"kCmkOe\"><img alt=\"\" class=\"DS1iW\" src=\"https://encrypted-tbn0.gstatic.com/images?q=tbn:ANd9GcSWpoMhRTqzmWSn858hhXo2sP-M_UQs9JE4ONTqtKjYkoDRWx0khCqNSw1w6A&amp;s\"/></div></a></td></tr><tr><td><a href=\"/url?q=https://in.pinterest.com/raparnadharshin/cricket-quotes/&amp;sa=U&amp;ved=2ahUKEwjG-5yR2ZSJAxWCVWwGHWc6DrcQr4kDegQIARAC&amp;usg=AOvVaw2oJOod8IiDRXxxdXPtlLTX\"><div class=\"AlD19d\"> <span class=\"qXLe6d x3G5ab\"> <span class=\"fYyStc\">10 Cricket quotes ideas |...</span> </span> <span class=\"qXLe6d F9iS2e\"> <span class=\"fYyStc\">in.pinterest.com</span> </span> </div></a></td></tr></table></div></div> </div> </div></td><td align=\"center\" class=\"e3goi\"><div class=\"jjVJ4e\"> <div> <div class=\"lIMUZd\"><div><table class=\"RntSmf\"><tr><td><a href=\"/url?q=https://www.youtube.com/watch%3Fv%3DyfIJPzhyn5E&amp;sa=U&amp;ved=2ahUKEwjG-5yR2ZSJAxWCVWwGHWc6DrcQqoUBegQICBAB&amp;usg=AOvVaw0bKuq_JrA6wCSztDAHKFnI\"><div class=\"kCmkOe\"><img alt=\"\" class=\"DS1iW\" src=\"https://encrypted-tbn0.gstatic.com/images?q=tbn:ANd9GcR1TZQWzIY7FYb6ulb123NkdLnfcOMPxVG_WDMmzngehmL2NXG58ilmShpctQ&amp;s\"/></div></a></td></tr><tr><td><a href=\"/url?q=https://www.youtube.com/watch%3Fv%3DyfIJPzhyn5E&amp;sa=U&amp;ved=2ahUKEwjG-5yR2ZSJAxWCVWwGHWc6DrcQr4kDegQICBAC&amp;usg=AOvVaw3co0J3l3UEsSClYw_QZaQH\"><div class=\"AlD19d\"> <span class=\"qXLe6d x3G5ab\"> <span class=\"fYyStc\">APJ Abdul Kalam USED TV MS...</span> </span> <span class=\"qXLe6d F9iS2e\"> <span class=\"fYyStc\">www.youtube.com</span> </span> </div></a></td></tr></table></div></div> </div> </div></td><td align=\"center\" class=\"e3goi\"><div class=\"jjVJ4e\"> <div> <div class=\"lIMUZd\"><div><table class=\"RntSmf\"><tr><td><a href=\"/url?q=https://www.jagranjosh.com/general-knowledge/ms-dhoni-quotes-1685950121-1&amp;sa=U&amp;ved=2ahUKEwjG-5yR2ZSJAxWCVWwGHWc6DrcQqoUBegQIBxAB&amp;usg=AOvVaw2lD105AjQoS_6YcsyWe03-\"><div class=\"kCmkOe\"><img alt=\"\" class=\"DS1iW\" src=\"https://encrypted-tbn0.gstatic.com/images?q=tbn:ANd9GcRtfIGT9W59jeqHZtTEcQ6cpX6TOjzeC5M11iZfuvEoKfcSFxVNiECNKBG6GC8&amp;s\"/></div></a></td></tr><tr><td><a href=\"/url?q=https://www.jagranjosh.com/general-knowledge/ms-dhoni-quotes-1685950121-1&amp;sa=U&amp;ved=2ahUKEwjG-5yR2ZSJAxWCVWwGHWc6DrcQr4kDegQIBxAC&amp;usg=AOvVaw36temsyBjm_3-ZhNNKeiva\"><div class=\"AlD19d\"> <span class=\"qXLe6d x3G5ab\"> <span class=\"fYyStc\">Happy Birthday MS Dhoni:...</span> </span> <span class=\"qXLe6d F9iS2e\"> <span class=\"fYyStc\">www.jagranjosh.com</span> </span> </div></a></td></tr></table></div></div> </div> </div></td></tr></table></div><table class=\"uZgmoc\"><tbody><td><a class=\"frGj1b\" href=\"/search?q=M.S+Dhoni+kalam&amp;sca_esv=937eecc00695d44d&amp;biw=1280&amp;bih=585&amp;ie=UTF-8&amp;tbm=isch&amp;ei=aKIQZ8anH4KrseMP5_S4uAs&amp;start=20&amp;sa=N\">Next &gt;</a></td></tbody></table><br/><div class=\"TuS8Ad\" data-ved=\"0ahUKEwjG-5yR2ZSJAxWCVWwGHWc6DrcQpyoIRQ\"><style>.VYM29{font-weight:bold}</style><div align=\"center\" class=\"HddGcc\"><span class=\"VYM29\">Kota, Rajasthan</span><span> - </span><span>From your IP address</span><span> - </span><a href=\"/url?q=https://support.google.com/websearch%3Fp%3Dws_settings_location%26hl%3Den-IN&amp;opi=89978449&amp;sa=U&amp;ved=0ahUKEwjG-5yR2ZSJAxWCVWwGHWc6DrcQty4IRg&amp;usg=AOvVaw06eliW4x9M9uNdMIpMleI8\">Learn more</a></div><div align=\"center\"><a class=\"rEM8G\" href=\"/url?q=https://accounts.google.com/ServiceLogin%3Fcontinue%3Dhttps://www.google.com/search%253Fsca_esv%253D937eecc00695d44d%2526sxsrf%253DADLYWIJUV5g2V0Mbv5AaX5WKG9SYprdazA:1725945293817%2526q%253DM.S%252BDhoni%252Bkalam%2526fbs%253DAEQNm0DPvcmG_nCbmwtBO9j6YBzM68ZanC7g01Skprhw5JoufbCK1nGzScVrgK3HSlrjNu6plNP03ZWuAbxABvYcOgcrcxfyLKP90Tl7ddJSOKqiK6tH7okCSOtAvUPF-BJHLiRHhZEd8-NeQ72ZVvYYQC_UYoxUlN7HwIzY4nrxQa9S_SlLHoXS4ZmjH4QzOBH5WsqPHhJj3iTMnkI8X_xkf5qPuCPTVQ%2526sa%253DX%2526ved%253D2ahUKEwj87o6hz7eIAxVJXWwGHeObJ78QtKgLegQIERAB%2526biw%253D1280%2526bih%253D585%2526dpr%253D1.5%2526tbm%253Disch%26hl%3Den&amp;opi=89978449&amp;sa=U&amp;ved=0ahUKEwjG-5yR2ZSJAxWCVWwGHWc6DrcQxs8CCEc&amp;usg=AOvVaw37WcwlJuRNc-vub7PZ4btL\">Sign in</a></div><div><table class=\"bookcf\"><tbody class=\"InWNIe\"><tr><td><a class=\"rEM8G\" href=\"https://www.google.com/preferences?hl=en&amp;sa=X&amp;ved=0ahUKEwjG-5yR2ZSJAxWCVWwGHWc6DrcQv5YECEg\">Settings</a></td><td><a class=\"rEM8G\" href=\"https://www.google.com/intl/en_in/policies/privacy/\">Privacy</a></td><td><a class=\"rEM8G\" href=\"https://www.google.com/intl/en_in/policies/terms/\">Terms</a></td></tr></tbody></table></div></div><div> </div></body></html>"
      ]
     },
     "execution_count": 15,
     "metadata": {},
     "output_type": "execute_result"
    }
   ],
   "source": [
    "Soup"
   ]
  },
  {
   "cell_type": "code",
   "execution_count": 17,
   "id": "2dfb7b89-9a21-41c6-8bc4-295f64a98946",
   "metadata": {},
   "outputs": [],
   "source": [
    "images_tags= Soup.find_all(\"img\")"
   ]
  },
  {
   "cell_type": "code",
   "execution_count": 19,
   "id": "8f78c265-587d-41e0-9b0d-826a4d93c8d0",
   "metadata": {},
   "outputs": [
    {
     "data": {
      "text/plain": [
       "[<img alt=\"Google\" class=\"kgJEQe\" src=\"/images/branding/searchlogo/1x/googlelogo_desk_heirloom_color_150x55dp.gif\"/>,\n",
       " <img alt=\"\" class=\"DS1iW\" src=\"https://encrypted-tbn0.gstatic.com/images?q=tbn:ANd9GcTy8m8LyzU3ESFr3poDiqAbGCMCF5W3r9oRM_bsdq3Nbtmfd3jFJEZvX1um2g&amp;s\"/>,\n",
       " <img alt=\"\" class=\"DS1iW\" src=\"https://encrypted-tbn0.gstatic.com/images?q=tbn:ANd9GcRfheApSvpRrdmJHhFoO2_-o_4NnpkLRHtmWi0mCz38ZRLojhNQ7JQnw6VZjQ&amp;s\"/>,\n",
       " <img alt=\"\" class=\"DS1iW\" src=\"https://encrypted-tbn0.gstatic.com/images?q=tbn:ANd9GcQu5TE3xWaOrmHFec1Mm1iEvzyJiL4uInPSFLIUjHR86Q9ZRbb3N0eC_dK5Qg&amp;s\"/>,\n",
       " <img alt=\"\" class=\"DS1iW\" src=\"https://encrypted-tbn0.gstatic.com/images?q=tbn:ANd9GcSTFFkVfJdK_1-ETofBDnLy1jgijI-nNJeytja8DcmKzI9izYPsODgWQk5dcZ4&amp;s\"/>,\n",
       " <img alt=\"\" class=\"DS1iW\" src=\"https://encrypted-tbn0.gstatic.com/images?q=tbn:ANd9GcR27IiCMvGnkCScGadRbCm6MY5DVQwf2hTaD5NEV6NbhWm_cbM2aQxg5Y4DRg&amp;s\"/>,\n",
       " <img alt=\"\" class=\"DS1iW\" src=\"https://encrypted-tbn0.gstatic.com/images?q=tbn:ANd9GcRurW0RX6dXUP-2n56dNq7ZGXQnP9allzYTXC7X92ZX170lEZ-iE5sHLnIXBQ&amp;s\"/>,\n",
       " <img alt=\"\" class=\"DS1iW\" src=\"https://encrypted-tbn0.gstatic.com/images?q=tbn:ANd9GcR1rRFx7RCW8on-nQ0eVM0dkTcV6ivnSyqWBmIBYhhaVM9W8dewfOrEFfTb8v0&amp;s\"/>,\n",
       " <img alt=\"\" class=\"DS1iW\" src=\"https://encrypted-tbn0.gstatic.com/images?q=tbn:ANd9GcS4huaMXFElsEP5cE8VfEgIGeLqIup05AuIyf5Gu6PsO8y_HQiTZqFdWNNDYw&amp;s\"/>,\n",
       " <img alt=\"\" class=\"DS1iW\" src=\"https://encrypted-tbn0.gstatic.com/images?q=tbn:ANd9GcSb1tfoKsTk04fSd1uCMFSKkt4JAOtCB8r-KPttSwEHVKODXUinA7iB7RVu0A4&amp;s\"/>,\n",
       " <img alt=\"\" class=\"DS1iW\" src=\"https://encrypted-tbn0.gstatic.com/images?q=tbn:ANd9GcTlIPCqkkxdH5Zu7QHXfRk_iV6jcYXmam2dkHsVRg14CeyIQcyxyunGWqRpnQ&amp;s\"/>,\n",
       " <img alt=\"\" class=\"DS1iW\" src=\"https://encrypted-tbn0.gstatic.com/images?q=tbn:ANd9GcQsECS4OPX2dF9LpPm5EpA0W2QHccgIEl4t6YkhTvq7HDbzOtIIbo9UeAuTcw&amp;s\"/>,\n",
       " <img alt=\"\" class=\"DS1iW\" src=\"https://encrypted-tbn0.gstatic.com/images?q=tbn:ANd9GcRGzFNHKM7vH5_nk4rBcXcxHouumUadRYhkBgbpD7pfmSH993pAzf9g2DQ7oAM&amp;s\"/>,\n",
       " <img alt=\"\" class=\"DS1iW\" src=\"https://encrypted-tbn0.gstatic.com/images?q=tbn:ANd9GcR7y773sQl2kieMb3C5OA8vqjkCi1EQNqLVP3ptEjULP5ZJQYfYcLDJyizYOzQ&amp;s\"/>,\n",
       " <img alt=\"\" class=\"DS1iW\" src=\"https://encrypted-tbn0.gstatic.com/images?q=tbn:ANd9GcRYyMhhZB799RU_KFZX_LeBhQxFz5h0KsphX3a7wh9Ok1OyBnCrJZHvLrjuV-Q&amp;s\"/>,\n",
       " <img alt=\"\" class=\"DS1iW\" src=\"https://encrypted-tbn0.gstatic.com/images?q=tbn:ANd9GcQS4B2JApWTu3ykuqQeyF_1oOG-BtcEacEaJReUxx7LtM4P9AtKyXGuZ1lZxbc&amp;s\"/>,\n",
       " <img alt=\"\" class=\"DS1iW\" src=\"https://encrypted-tbn0.gstatic.com/images?q=tbn:ANd9GcS9S1-wN9klXMZ494rRjbk690UHGSlXKkF5DLPfWfYir2wGHUFEaLwDioCA-Q&amp;s\"/>,\n",
       " <img alt=\"\" class=\"DS1iW\" src=\"https://encrypted-tbn0.gstatic.com/images?q=tbn:ANd9GcQFIk8it-nhkxbGtxuVSv2d45dO__oer-cPuTe3Zfndhf3NcRNRroR-nYnXUQ&amp;s\"/>,\n",
       " <img alt=\"\" class=\"DS1iW\" src=\"https://encrypted-tbn0.gstatic.com/images?q=tbn:ANd9GcSWpoMhRTqzmWSn858hhXo2sP-M_UQs9JE4ONTqtKjYkoDRWx0khCqNSw1w6A&amp;s\"/>,\n",
       " <img alt=\"\" class=\"DS1iW\" src=\"https://encrypted-tbn0.gstatic.com/images?q=tbn:ANd9GcR1TZQWzIY7FYb6ulb123NkdLnfcOMPxVG_WDMmzngehmL2NXG58ilmShpctQ&amp;s\"/>,\n",
       " <img alt=\"\" class=\"DS1iW\" src=\"https://encrypted-tbn0.gstatic.com/images?q=tbn:ANd9GcRtfIGT9W59jeqHZtTEcQ6cpX6TOjzeC5M11iZfuvEoKfcSFxVNiECNKBG6GC8&amp;s\"/>]"
      ]
     },
     "execution_count": 19,
     "metadata": {},
     "output_type": "execute_result"
    }
   ],
   "source": [
    "images_tags"
   ]
  },
  {
   "cell_type": "code",
   "execution_count": 21,
   "id": "5f2d2aea-5395-4a83-b362-65b9031d9534",
   "metadata": {},
   "outputs": [
    {
     "data": {
      "text/plain": [
       "21"
      ]
     },
     "execution_count": 21,
     "metadata": {},
     "output_type": "execute_result"
    }
   ],
   "source": [
    "len(images_tags)"
   ]
  },
  {
   "cell_type": "code",
   "execution_count": 23,
   "id": "32c48dc9-2668-46c5-92fa-64bfaabf8bc1",
   "metadata": {},
   "outputs": [],
   "source": [
    "del images_tags[0]"
   ]
  },
  {
   "cell_type": "code",
   "execution_count": 25,
   "id": "3748d81e-f6a8-4d62-87d5-15e79056fd29",
   "metadata": {},
   "outputs": [],
   "source": [
    "img_data_mongo = []\n",
    "for i in images_tags:\n",
    "    image_url = i[\"src\"]\n",
    "    image_data = requests.get(image_url).content\n",
    "    mydict = {\"index\": image_url, \"image\": image_data}\n",
    "    img_data_mongo.append(mydict)\n",
    "    with open(os.path.join(save_dir,f\"{query}_{images_tags.index(i)}.jpg\"),\"wb\")as f:\n",
    "        f.write(image_data)\n",
    "\n"
   ]
  },
  {
   "cell_type": "code",
   "execution_count": null,
   "id": "f8c93d7a-e890-49bd-bbbc-6df029fe49b0",
   "metadata": {},
   "outputs": [],
   "source": []
  },
  {
   "cell_type": "code",
   "execution_count": null,
   "id": "d470b9eb-7b60-4a02-be2e-9c09728aab85",
   "metadata": {},
   "outputs": [],
   "source": []
  },
  {
   "cell_type": "code",
   "execution_count": null,
   "id": "1563302e-d7e5-4963-8cb1-3b1e9d59f484",
   "metadata": {},
   "outputs": [],
   "source": []
  },
  {
   "cell_type": "code",
   "execution_count": null,
   "id": "7d6fe78f-0129-46b5-86d4-62d13fe47eac",
   "metadata": {},
   "outputs": [],
   "source": []
  },
  {
   "cell_type": "code",
   "execution_count": null,
   "id": "e04e90e9-71b8-4253-bd7d-108b5618a869",
   "metadata": {},
   "outputs": [],
   "source": []
  },
  {
   "cell_type": "code",
   "execution_count": null,
   "id": "0816e17e-e363-4855-a285-b56ad21490ab",
   "metadata": {},
   "outputs": [],
   "source": []
  },
  {
   "cell_type": "code",
   "execution_count": null,
   "id": "b1b3b979-1586-4822-bbd8-9bcaddd344d9",
   "metadata": {},
   "outputs": [],
   "source": []
  }
 ],
 "metadata": {
  "kernelspec": {
   "display_name": "Python 3 (ipykernel)",
   "language": "python",
   "name": "python3"
  },
  "language_info": {
   "codemirror_mode": {
    "name": "ipython",
    "version": 3
   },
   "file_extension": ".py",
   "mimetype": "text/x-python",
   "name": "python",
   "nbconvert_exporter": "python",
   "pygments_lexer": "ipython3",
   "version": "3.12.4"
  }
 },
 "nbformat": 4,
 "nbformat_minor": 5
}
